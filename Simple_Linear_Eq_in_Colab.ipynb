{
  "nbformat": 4,
  "nbformat_minor": 0,
  "metadata": {
    "colab": {
      "provenance": [],
      "authorship_tag": "ABX9TyOdlvcHyAeyiGKX4Vdooppa",
      "include_colab_link": true
    },
    "kernelspec": {
      "name": "python3",
      "display_name": "Python 3"
    },
    "language_info": {
      "name": "python"
    }
  },
  "cells": [
    {
      "cell_type": "markdown",
      "metadata": {
        "id": "view-in-github",
        "colab_type": "text"
      },
      "source": [
        "<a href=\"https://colab.research.google.com/github/ellenwterry/Modeling/blob/master/Simple_Linear_Eq_in_Colab.ipynb\" target=\"_parent\"><img src=\"https://colab.research.google.com/assets/colab-badge.svg\" alt=\"Open In Colab\"/></a>"
      ]
    },
    {
      "cell_type": "code",
      "execution_count": null,
      "metadata": {
        "id": "0Wp21kRoGAwo"
      },
      "outputs": [],
      "source": [
        "import matplotlib.pyplot as plt\n",
        "import numpy as np\n",
        "import pandas as pd"
      ]
    },
    {
      "cell_type": "code",
      "source": [
        "!pip install pystan\n",
        "!pip install corner\n",
        "import stan\n",
        "\n",
        "!pip install nest-asyncio\n",
        "import nest_asyncio\n",
        "nest_asyncio.apply()"
      ],
      "metadata": {
        "id": "oIpfvEvGG97g",
        "colab": {
          "base_uri": "https://localhost:8080/"
        },
        "outputId": "d9c7f54c-cc6e-45d0-cbde-66a0c53684a8"
      },
      "execution_count": null,
      "outputs": [
        {
          "output_type": "stream",
          "name": "stdout",
          "text": [
            "Collecting pystan\n",
            "  Downloading pystan-3.7.0-py3-none-any.whl (13 kB)\n",
            "Requirement already satisfied: aiohttp<4.0,>=3.6 in /usr/local/lib/python3.10/dist-packages (from pystan) (3.8.5)\n",
            "Collecting clikit<0.7,>=0.6 (from pystan)\n",
            "  Downloading clikit-0.6.2-py2.py3-none-any.whl (91 kB)\n",
            "\u001b[2K     \u001b[90m━━━━━━━━━━━━━━━━━━━━━━━━━━━━━━━━━━━━━━━━\u001b[0m \u001b[32m91.8/91.8 kB\u001b[0m \u001b[31m1.8 MB/s\u001b[0m eta \u001b[36m0:00:00\u001b[0m\n",
            "\u001b[?25hCollecting httpstan<4.11,>=4.10 (from pystan)\n",
            "  Downloading httpstan-4.10.1-cp310-cp310-manylinux_2_17_x86_64.manylinux2014_x86_64.whl (44.4 MB)\n",
            "\u001b[2K     \u001b[90m━━━━━━━━━━━━━━━━━━━━━━━━━━━━━━━━━━━━━━━━\u001b[0m \u001b[32m44.4/44.4 MB\u001b[0m \u001b[31m18.9 MB/s\u001b[0m eta \u001b[36m0:00:00\u001b[0m\n",
            "\u001b[?25hRequirement already satisfied: numpy<2.0,>=1.19 in /usr/local/lib/python3.10/dist-packages (from pystan) (1.23.5)\n",
            "Collecting pysimdjson<6.0.0,>=5.0.2 (from pystan)\n",
            "  Downloading pysimdjson-5.0.2-cp310-cp310-manylinux_2_17_x86_64.manylinux2014_x86_64.whl (1.8 MB)\n",
            "\u001b[2K     \u001b[90m━━━━━━━━━━━━━━━━━━━━━━━━━━━━━━━━━━━━━━━━\u001b[0m \u001b[32m1.8/1.8 MB\u001b[0m \u001b[31m62.7 MB/s\u001b[0m eta \u001b[36m0:00:00\u001b[0m\n",
            "\u001b[?25hRequirement already satisfied: setuptools in /usr/local/lib/python3.10/dist-packages (from pystan) (67.7.2)\n",
            "Requirement already satisfied: attrs>=17.3.0 in /usr/local/lib/python3.10/dist-packages (from aiohttp<4.0,>=3.6->pystan) (23.1.0)\n",
            "Requirement already satisfied: charset-normalizer<4.0,>=2.0 in /usr/local/lib/python3.10/dist-packages (from aiohttp<4.0,>=3.6->pystan) (3.2.0)\n",
            "Requirement already satisfied: multidict<7.0,>=4.5 in /usr/local/lib/python3.10/dist-packages (from aiohttp<4.0,>=3.6->pystan) (6.0.4)\n",
            "Requirement already satisfied: async-timeout<5.0,>=4.0.0a3 in /usr/local/lib/python3.10/dist-packages (from aiohttp<4.0,>=3.6->pystan) (4.0.3)\n",
            "Requirement already satisfied: yarl<2.0,>=1.0 in /usr/local/lib/python3.10/dist-packages (from aiohttp<4.0,>=3.6->pystan) (1.9.2)\n",
            "Requirement already satisfied: frozenlist>=1.1.1 in /usr/local/lib/python3.10/dist-packages (from aiohttp<4.0,>=3.6->pystan) (1.4.0)\n",
            "Requirement already satisfied: aiosignal>=1.1.2 in /usr/local/lib/python3.10/dist-packages (from aiohttp<4.0,>=3.6->pystan) (1.3.1)\n",
            "Collecting crashtest<0.4.0,>=0.3.0 (from clikit<0.7,>=0.6->pystan)\n",
            "  Downloading crashtest-0.3.1-py3-none-any.whl (7.0 kB)\n",
            "Collecting pastel<0.3.0,>=0.2.0 (from clikit<0.7,>=0.6->pystan)\n",
            "  Downloading pastel-0.2.1-py2.py3-none-any.whl (6.0 kB)\n",
            "Collecting pylev<2.0,>=1.3 (from clikit<0.7,>=0.6->pystan)\n",
            "  Downloading pylev-1.4.0-py2.py3-none-any.whl (6.1 kB)\n",
            "Requirement already satisfied: appdirs<2.0,>=1.4 in /usr/local/lib/python3.10/dist-packages (from httpstan<4.11,>=4.10->pystan) (1.4.4)\n",
            "Collecting marshmallow<4.0,>=3.10 (from httpstan<4.11,>=4.10->pystan)\n",
            "  Downloading marshmallow-3.20.1-py3-none-any.whl (49 kB)\n",
            "\u001b[2K     \u001b[90m━━━━━━━━━━━━━━━━━━━━━━━━━━━━━━━━━━━━━━━━\u001b[0m \u001b[32m49.4/49.4 kB\u001b[0m \u001b[31m5.8 MB/s\u001b[0m eta \u001b[36m0:00:00\u001b[0m\n",
            "\u001b[?25hCollecting webargs<9.0,>=8.0 (from httpstan<4.11,>=4.10->pystan)\n",
            "  Downloading webargs-8.3.0-py3-none-any.whl (31 kB)\n",
            "Requirement already satisfied: packaging>=17.0 in /usr/local/lib/python3.10/dist-packages (from marshmallow<4.0,>=3.10->httpstan<4.11,>=4.10->pystan) (23.1)\n",
            "Requirement already satisfied: idna>=2.0 in /usr/local/lib/python3.10/dist-packages (from yarl<2.0,>=1.0->aiohttp<4.0,>=3.6->pystan) (3.4)\n",
            "Installing collected packages: pylev, pysimdjson, pastel, marshmallow, crashtest, webargs, clikit, httpstan, pystan\n",
            "Successfully installed clikit-0.6.2 crashtest-0.3.1 httpstan-4.10.1 marshmallow-3.20.1 pastel-0.2.1 pylev-1.4.0 pysimdjson-5.0.2 pystan-3.7.0 webargs-8.3.0\n",
            "Collecting corner\n",
            "  Downloading corner-2.2.2-py3-none-any.whl (15 kB)\n",
            "Requirement already satisfied: matplotlib>=2.1 in /usr/local/lib/python3.10/dist-packages (from corner) (3.7.1)\n",
            "Requirement already satisfied: contourpy>=1.0.1 in /usr/local/lib/python3.10/dist-packages (from matplotlib>=2.1->corner) (1.1.0)\n",
            "Requirement already satisfied: cycler>=0.10 in /usr/local/lib/python3.10/dist-packages (from matplotlib>=2.1->corner) (0.11.0)\n",
            "Requirement already satisfied: fonttools>=4.22.0 in /usr/local/lib/python3.10/dist-packages (from matplotlib>=2.1->corner) (4.42.1)\n",
            "Requirement already satisfied: kiwisolver>=1.0.1 in /usr/local/lib/python3.10/dist-packages (from matplotlib>=2.1->corner) (1.4.5)\n",
            "Requirement already satisfied: numpy>=1.20 in /usr/local/lib/python3.10/dist-packages (from matplotlib>=2.1->corner) (1.23.5)\n",
            "Requirement already satisfied: packaging>=20.0 in /usr/local/lib/python3.10/dist-packages (from matplotlib>=2.1->corner) (23.1)\n",
            "Requirement already satisfied: pillow>=6.2.0 in /usr/local/lib/python3.10/dist-packages (from matplotlib>=2.1->corner) (9.4.0)\n",
            "Requirement already satisfied: pyparsing>=2.3.1 in /usr/local/lib/python3.10/dist-packages (from matplotlib>=2.1->corner) (3.1.1)\n",
            "Requirement already satisfied: python-dateutil>=2.7 in /usr/local/lib/python3.10/dist-packages (from matplotlib>=2.1->corner) (2.8.2)\n",
            "Requirement already satisfied: six>=1.5 in /usr/local/lib/python3.10/dist-packages (from python-dateutil>=2.7->matplotlib>=2.1->corner) (1.16.0)\n",
            "Installing collected packages: corner\n",
            "Successfully installed corner-2.2.2\n",
            "Requirement already satisfied: nest-asyncio in /usr/local/lib/python3.10/dist-packages (1.5.7)\n"
          ]
        }
      ]
    },
    {
      "cell_type": "markdown",
      "source": [
        "Generate Data"
      ],
      "metadata": {
        "id": "Mbal-PDuueKt"
      }
    },
    {
      "cell_type": "code",
      "source": [
        "n = 50\n",
        "x = []\n",
        "for i in range(1, n+1):\n",
        "    x.append(i)\n",
        "\n",
        "mu = 0;\n",
        "sigma = 15;\n",
        "noise = np.random.normal(mu, sigma, n)\n",
        "dAlpha = 10\n",
        "dBeta = 2\n",
        "\n",
        "yObs = dAlpha + np.multiply(x, 2) + noise\n",
        "yPred = dAlpha + np.multiply(x, 2)\n",
        "\n",
        "kData = pd.DataFrame({'x': x, 'yObs': yObs, 'yPred' : yPred})\n",
        "kData\n",
        "\n",
        "# Plot outputs\n",
        "plt.scatter(kData['x'], kData['yObs'], color=\"black\")\n",
        "plt.plot(kData['x'], kData['yPred'], color=\"blue\", linewidth=3)\n",
        "\n",
        "plt.xticks(())\n",
        "plt.yticks(())\n",
        "\n",
        "plt.show()"
      ],
      "metadata": {
        "colab": {
          "base_uri": "https://localhost:8080/",
          "height": 406
        },
        "id": "MBcBXb8JkVrf",
        "outputId": "27ef9fb1-72cf-4cf9-be39-afc6fe437799"
      },
      "execution_count": null,
      "outputs": [
        {
          "output_type": "display_data",
          "data": {
            "text/plain": [
              "<Figure size 640x480 with 1 Axes>"
            ],
            "image/png": "[encoded data removed]"
          },
          "metadata": {}
        }
      ]
    },
    {
      "cell_type": "code",
      "source": [
        "stanMod2 = \"\"\"\n",
        "data {\n",
        "int<lower=0> N;\n",
        "  vector[N] y;\n",
        "  vector[N] x;\n",
        "}\n",
        "parameters {\n",
        "  real alpha;\n",
        "  real beta;\n",
        "  real<lower=0> sigma;\n",
        "}\n",
        "model {\n",
        "  target += normal_lpdf(y | (alpha + beta*x), sigma);\n",
        "}\n",
        "\"\"\""
      ],
      "metadata": {
        "id": "LciTwNllkV0E"
      },
      "execution_count": null,
      "outputs": []
    },
    {
      "cell_type": "code",
      "source": [
        "mData = {\"y\": yObs,\n",
        "         \"N\": n,\n",
        "         \"x\": x}"
      ],
      "metadata": {
        "id": "C_hpftsZkV86"
      },
      "execution_count": null,
      "outputs": []
    },
    {
      "cell_type": "code",
      "source": [
        "yObs"
      ],
      "metadata": {
        "id": "WtJji0DTStcg",
        "outputId": "0cf2925a-5485-437a-ba25-5ae6ab8b5591",
        "colab": {
          "base_uri": "https://localhost:8080/"
        }
      },
      "execution_count": null,
      "outputs": [
        {
          "output_type": "execute_result",
          "data": {
            "text/plain": [
              "array([ 30.18197257,  13.95356685,  -2.05888864,  -3.48220655,\n",
              "        28.79417435,  23.05025364,  30.97378159,  24.24516738,\n",
              "        34.00513484,  17.60193756,   4.61666202,  60.71784317,\n",
              "        33.96361274,  58.91553231,  49.46430234,  40.68909008,\n",
              "        34.05795962,  28.82704353,  45.31400885,  58.4257025 ,\n",
              "        58.15079421,  53.55002801,  54.02223716,  67.51799501,\n",
              "        69.22386176,  63.49391165,  48.80733906,  86.65629695,\n",
              "        68.32182358,  69.49784556,  75.61765455,  65.17778933,\n",
              "        79.30009468,  51.39927459,  89.79680679, 103.30805142,\n",
              "        87.93178218, 118.1562127 ,  90.81869325,  81.32803853,\n",
              "        96.83903657,  95.49725739,  75.43490985,  82.63152179,\n",
              "        70.13680253,  93.58178699, 122.93418045,  88.65690904,\n",
              "        96.38418962, 154.11380874])"
            ]
          },
          "metadata": {},
          "execution_count": 6
        }
      ]
    },
    {
      "cell_type": "code",
      "source": [
        "postr = stan.build(stanMod2, data = mData, random_seed = 1)"
      ],
      "metadata": {
        "colab": {
          "base_uri": "https://localhost:8080/"
        },
        "id": "ad2ZyP8nkWFg",
        "outputId": "f0b71a99-f835-4ae8-ac71-c87aeb17366b"
      },
      "execution_count": null,
      "outputs": [
        {
          "output_type": "stream",
          "name": "stdout",
          "text": [
            "Building...\n"
          ]
        },
        {
          "output_type": "stream",
          "name": "stderr",
          "text": [
            "\n",
            "Building: found in cache, done.Messages from stanc:\n",
            "Warning: The parameter sigma has no priors. This means either no prior is\n",
            "    provided, or the prior(s) depend on data variables. In the later case,\n",
            "    this may be a false positive.\n",
            "Warning: The parameter beta has no priors. This means either no prior is\n",
            "    provided, or the prior(s) depend on data variables. In the later case,\n",
            "    this may be a false positive.\n",
            "Warning: The parameter alpha has no priors. This means either no prior is\n",
            "    provided, or the prior(s) depend on data variables. In the later case,\n",
            "    this may be a false positive.\n"
          ]
        }
      ]
    },
    {
      "cell_type": "code",
      "source": [
        "fit = postr.sample(num_chains=4, num_samples=1000)"
      ],
      "metadata": {
        "colab": {
          "base_uri": "https://localhost:8080/"
        },
        "id": "0WQromFTmDlT",
        "outputId": "3e85011c-1f0f-466a-b20a-f701c7c7ca75"
      },
      "execution_count": null,
      "outputs": [
        {
          "output_type": "stream",
          "name": "stderr",
          "text": [
            "Sampling:   0%\n",
            "Sampling:  25% (2000/8000)\n",
            "Sampling:  50% (4000/8000)\n",
            "Sampling:  75% (6000/8000)\n",
            "Sampling: 100% (8000/8000)\n",
            "Sampling: 100% (8000/8000), done.\n",
            "Messages received during sampling:\n",
            "  Gradient evaluation took 3.2e-05 seconds\n",
            "  1000 transitions using 10 leapfrog steps per transition would take 0.32 seconds.\n",
            "  Adjust your expectations accordingly!\n",
            "  Gradient evaluation took 1.3e-05 seconds\n",
            "  1000 transitions using 10 leapfrog steps per transition would take 0.13 seconds.\n",
            "  Adjust your expectations accordingly!\n",
            "  Gradient evaluation took 1e-05 seconds\n",
            "  1000 transitions using 10 leapfrog steps per transition would take 0.1 seconds.\n",
            "  Adjust your expectations accordingly!\n",
            "  Gradient evaluation took 9e-06 seconds\n",
            "  1000 transitions using 10 leapfrog steps per transition would take 0.09 seconds.\n",
            "  Adjust your expectations accordingly!\n"
          ]
        }
      ]
    },
    {
      "cell_type": "code",
      "source": [
        "df = fit.to_frame()"
      ],
      "metadata": {
        "id": "jgaMHFZnmDu6"
      },
      "execution_count": null,
      "outputs": []
    },
    {
      "cell_type": "code",
      "source": [
        "Params = df.describe().T\n",
        "alpha = Params['mean']['alpha']\n",
        "beta = Params['mean']['beta']\n",
        "alpha, beta"
      ],
      "metadata": {
        "colab": {
          "base_uri": "https://localhost:8080/"
        },
        "id": "SzbxbvfhnA6w",
        "outputId": "540f52f1-bb5c-45a6-e0fb-861402d2b64e"
      },
      "execution_count": null,
      "outputs": [
        {
          "output_type": "execute_result",
          "data": {
            "text/plain": [
              "(0.9536992943024089, 2.2491479648920154)"
            ]
          },
          "metadata": {},
          "execution_count": 47
        }
      ]
    }
  ]
}